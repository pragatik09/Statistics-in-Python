{
 "cells": [
  {
   "cell_type": "markdown",
   "id": "010be6db",
   "metadata": {},
   "source": [
    "## Normal Distribution\n",
    "\n",
    "\n",
    "\n",
    "The distribution is defined by the probability density function equation:\n",
    "\n",
    "                        f(x,μ,σ)=1σ2π−−√e−12z2\n",
    "\n",
    "Where:\n",
    "    \n",
    "                            z=(X−μ)σ\n",
    "\n",
    "where: μ=mean , σ=standard deviation , π=3.14... , e=2.718...\n",
    "\n",
    "The normal distribution has several characteristics:\n",
    "\n",
    "1.) It has a lower tail (on the left) and an upper tail (on the right)\n",
    "\n",
    "2.) The curve is symmetric (for the theoretical distribution)\n",
    "\n",
    "3.) The peak occurs at the mean.\n",
    "\n",
    "4.) The standard deviation gives the curve a different shape:\n",
    "    -Narrow and tall for a smaller standard deviation.\n",
    "    -Shallower and fatter for a larger standard deviation.\n",
    "\n",
    "5.) The area under the curve is equal to 1 (the total probaility space)\n",
    "\n",
    "6.) The mean=median=mode."
   ]
  },
  {
   "cell_type": "code",
   "execution_count": 3,
   "id": "7efdd8ba",
   "metadata": {},
   "outputs": [],
   "source": [
    "import numpy as np\n",
    "import matplotlib as mpl\n",
    "import matplotlib.pyplot as plt\n",
    "%matplotlib inline\n",
    "\n",
    "#Import the stats library\n",
    "from scipy import stats\n"
   ]
  },
  {
   "cell_type": "code",
   "execution_count": 4,
   "id": "b2aae810",
   "metadata": {},
   "outputs": [
    {
     "data": {
      "text/plain": [
       "[<matplotlib.lines.Line2D at 0x14125ed5a30>]"
      ]
     },
     "execution_count": 4,
     "metadata": {},
     "output_type": "execute_result"
    },
    {
     "data": {
      "image/png": "[encoded data removed]",
      "text/plain": [
       "<Figure size 432x288 with 1 Axes>"
      ]
     },
     "metadata": {
      "needs_background": "light"
     },
     "output_type": "display_data"
    }
   ],
   "source": [
    "# Use Scipy to automatically create a normal distribution\n",
    "# Set the mean\n",
    "mean = 0\n",
    "\n",
    "#Set the standard deviation\n",
    "std = 1\n",
    "\n",
    "\n",
    "# Create a range\n",
    "X = np.arange(-4,4,0.01)\n",
    "\n",
    "#Create the normal distribution for the range\n",
    "Y = stats.norm.pdf(X,mean,std)\n",
    "\n",
    "plt.plot(X,Y)"
   ]
  },
  {
   "cell_type": "code",
   "execution_count": 6,
   "id": "92e81176",
   "metadata": {},
   "outputs": [],
   "source": [
    "import numpy as np\n",
    "\n",
    "#Set the mean and the standard deviaiton\n",
    "mu,sigma = 0,0.1\n",
    "\n",
    "# Taking 1000 random numbers from the normal distribution\n",
    "norm_set = np.random.normal(mu,sigma,1000)"
   ]
  },
  {
   "cell_type": "code",
   "execution_count": 7,
   "id": "6ddc0d31",
   "metadata": {},
   "outputs": [
    {
     "data": {
      "text/plain": [
       "(array([ 1.,  0.,  0.,  3.,  0.,  0.,  2.,  3.,  4.,  5.,  8.,  5.,  8.,\n",
       "        14., 19., 29., 21., 37., 49., 44., 45., 30., 37., 46., 41., 66.,\n",
       "        53., 47., 49., 59., 49., 41., 35., 23., 27., 17., 16., 10., 13.,\n",
       "        12.,  8.,  8.,  3.,  7.,  1.,  2.,  2.,  0.,  0.,  1.]),\n",
       " array([-0.34035584, -0.32713434, -0.31391285, -0.30069135, -0.28746986,\n",
       "        -0.27424837, -0.26102687, -0.24780538, -0.23458388, -0.22136239,\n",
       "        -0.20814089, -0.1949194 , -0.1816979 , -0.16847641, -0.15525491,\n",
       "        -0.14203342, -0.12881192, -0.11559043, -0.10236893, -0.08914744,\n",
       "        -0.07592594, -0.06270445, -0.04948295, -0.03626146, -0.02303996,\n",
       "        -0.00981847,  0.00340303,  0.01662452,  0.02984602,  0.04306751,\n",
       "         0.05628901,  0.0695105 ,  0.082732  ,  0.09595349,  0.10917499,\n",
       "         0.12239648,  0.13561797,  0.14883947,  0.16206096,  0.17528246,\n",
       "         0.18850395,  0.20172545,  0.21494694,  0.22816844,  0.24138993,\n",
       "         0.25461143,  0.26783292,  0.28105442,  0.29427591,  0.30749741,\n",
       "         0.3207189 ]),\n",
       " <BarContainer object of 50 artists>)"
      ]
     },
     "execution_count": 7,
     "metadata": {},
     "output_type": "execute_result"
    },
    {
     "data": {
      "image/png": "[encoded data removed]",
      "text/plain": [
       "<Figure size 432x288 with 1 Axes>"
      ]
     },
     "metadata": {
      "needs_background": "light"
     },
     "output_type": "display_data"
    }
   ],
   "source": [
    "# Plot notmal distribution using seaborn\n",
    "import seaborn as sns\n",
    "plt.hist(norm_set,bins=50)"
   ]
  },
  {
   "cell_type": "code",
   "execution_count": null,
   "id": "dea29109",
   "metadata": {},
   "outputs": [],
   "source": []
  },
  {
   "cell_type": "code",
   "execution_count": null,
   "id": "ff6ba6f4",
   "metadata": {},
   "outputs": [],
   "source": []
  },
  {
   "cell_type": "code",
   "execution_count": null,
   "id": "cf6827d1",
   "metadata": {},
   "outputs": [],
   "source": []
  }
 ],
 "metadata": {
  "kernelspec": {
   "display_name": "Python 3 (ipykernel)",
   "language": "python",
   "name": "python3"
  },
  "language_info": {
   "codemirror_mode": {
    "name": "ipython",
    "version": 3
   },
   "file_extension": ".py",
   "mimetype": "text/x-python",
   "name": "python",
   "nbconvert_exporter": "python",
   "pygments_lexer": "ipython3",
   "version": "3.9.12"
  }
 },
 "nbformat": 4,
 "nbformat_minor": 5
}
