{
 "cells": [
  {
   "cell_type": "markdown",
   "id": "a2340a85",
   "metadata": {},
   "source": [
    "## Binomial Distribution\n",
    "\n",
    "Binomial distribution is a specific type of a discrete probability distribution. \n",
    "\n",
    "The formula for a Binomial Distribution Probability Mass Function turns out to be:\n",
    "                        \n",
    "                        Pr(X=k)=C(n,k)pk(1−p)n−k\n",
    "\n",
    "Where n= number of trials,k=number of successes,p=probability of success,1-p=probability of failure (often written as q=1-p).\n",
    "\n",
    "This means that to get exactly 'k' successes in 'n' trials, we want exactly 'k' successes:\n",
    "                            \n",
    "                            pk\n",
    "and we want 'n-k' failures:\n",
    "                            \n",
    "                            (1−p)n−k\n",
    "Then finally, there are\n",
    "                            \n",
    "                            C(n,k)\n",
    "ways of putting 'k' successes in 'n' trials. So we multiply all these together to get the probability of exactly that many success and failures in those n trials."
   ]
  },
  {
   "cell_type": "markdown",
   "id": "af9c75e4",
   "metadata": {},
   "source": [
    "#### Problem Statement\n",
    "\n",
    "Two players are playing basketball, player A and player B. Player A takes an average of 11 shots per game, and has an average success rate of 72%. Player B takes an average of 15 shots per game, but has an average success rate of 48%.\n",
    "\n",
    "Question 1: What's the probability that Player A makes 6 shots in an average game?\n",
    "\n",
    "Question 2: What's the probability that Player B makes 6 shots in an average game?"
   ]
  },
  {
   "cell_type": "code",
   "execution_count": 2,
   "id": "8aa6d9da",
   "metadata": {},
   "outputs": [
    {
     "name": "stdout",
     "output_type": "stream",
     "text": [
      " The probability of player A making 6 shots in an average game is 11.1% \n",
      " \n",
      "\n",
      " The probability of player B making 6 shots in an average game is 17.0% \n"
     ]
    }
   ],
   "source": [
    "# Probability of success for A\n",
    "p_A = .72\n",
    "# Number of shots for A\n",
    "n_A = 11\n",
    "\n",
    "# Make 6 shots\n",
    "k = 6\n",
    "\n",
    "# Now import scipy for combination\n",
    "import scipy.special as sc\n",
    "\n",
    "# Set up C(n,k)\n",
    "comb_A = sc.comb(n_A,k)\n",
    "\n",
    "# Now put it together to get the probability!\n",
    "answer_A = comb_A * (p_A**k) * ((1-p_A)**(n_A-k))\n",
    "\n",
    "# Answer in percentage form\n",
    "answer_A = 100*answer_A\n",
    "\n",
    "\n",
    "# Repeat for Player B\n",
    "p_B = .48\n",
    "n_B = 15\n",
    "comb_B = sc.comb(n_B,k)\n",
    "answer_B = 100 * comb_B * (p_B**k) * ((1-p_B)**(n_B-k))\n",
    "\n",
    "\n",
    "print(' The probability of player A making 6 shots in an average game is %1.1f%% ' %answer_A)\n",
    "print(' \\n')\n",
    "print(' The probability of player B making 6 shots in an average game is %1.1f%% ' %answer_B)\n"
   ]
  },
  {
   "cell_type": "markdown",
   "id": "12111e21",
   "metadata": {},
   "source": [
    "#### Problem Statement \n",
    "\n",
    "What's the probability of making 9 shots a game for either player?"
   ]
  },
  {
   "cell_type": "code",
   "execution_count": 3,
   "id": "6132abb9",
   "metadata": {},
   "outputs": [
    {
     "name": "stdout",
     "output_type": "stream",
     "text": [
      " \n",
      "\n",
      " The probability of player A making 9 shots in an average game is 22.4% \n",
      "\n",
      "\n",
      " The probability of player B making 9 shots in an average game is 13.4% \n",
      "\n",
      "\n"
     ]
    }
   ],
   "source": [
    "#Set number of shots\n",
    "k = 9\n",
    "\n",
    "#Set new combinations\n",
    "comb_A = sc.comb(n_A,k)\n",
    "comb_B = sc.comb(n_B,k)\n",
    "\n",
    "answer_A = 100 * comb_A * (p_A**k) * ((1-p_A)**(n_A-k))\n",
    "answer_B = 100 * comb_B * (p_B**k) * ((1-p_B)**(n_B-k))\n",
    "\n",
    "print(' \\n')\n",
    "print(' The probability of player A making 9 shots in an average game is %1.1f%% ' %answer_A)\n",
    "print('\\n')\n",
    "print(' The probability of player B making 9 shots in an average game is %1.1f%% ' %answer_B)\n",
    "print('\\n')"
   ]
  },
  {
   "cell_type": "code",
   "execution_count": 10,
   "id": "e383f8d2",
   "metadata": {},
   "outputs": [
    {
     "name": "stdout",
     "output_type": "stream",
     "text": [
      "\n",
      "\n",
      "Player A will make an average of 8 +/- 1 shots per game\n",
      "\n",
      "\n",
      "Player B will make an average of 7 +/- 2 shots per game\n",
      "\n",
      "\n"
     ]
    }
   ],
   "source": [
    "# Mean\n",
    "mu_A = n_A *p_A\n",
    "mu_B = n_B *p_B\n",
    "\n",
    "# Standard deviation\n",
    "sigma_A = ( n_A *p_A*(1-p_A) )**0.5\n",
    "sigma_B = ( n_B *p_B*(1-p_B) )**0.5\n",
    "\n",
    "print('\\n')\n",
    "print('Player A will make an average of %1.0f +/- %1.0f shots per game' %(mu_A,sigma_A))\n",
    "print('\\n')\n",
    "print('Player B will make an average of %1.0f +/- %1.0f shots per game' %(mu_B,sigma_B))\n",
    "print('\\n')\n",
    "## NOTE: It's impossible to make a decimal of a shot so replace the float part"
   ]
  },
  {
   "cell_type": "markdown",
   "id": "42a176d9",
   "metadata": {},
   "source": [
    "#### Automatically make binomial distribution"
   ]
  },
  {
   "cell_type": "code",
   "execution_count": 12,
   "id": "ae63a2e1",
   "metadata": {},
   "outputs": [
    {
     "name": "stdout",
     "output_type": "stream",
     "text": [
      "7.92\n",
      "1.4891608375189027\n"
     ]
    }
   ],
   "source": [
    "from scipy.stats import binom\n",
    "\n",
    "# Get stats: Mean('m'), variance('v'), skew('s'), and/or kurtosis('k')\n",
    "mean,var= binom.stats(n_A,p_A)\n",
    "\n",
    "print(mean)\n",
    "print(var**0.5)"
   ]
  },
  {
   "cell_type": "markdown",
   "id": "42df61ef",
   "metadata": {},
   "source": [
    "#### Probability Mass Function for 10 coin flips"
   ]
  },
  {
   "cell_type": "code",
   "execution_count": 13,
   "id": "285c64c5",
   "metadata": {},
   "outputs": [
    {
     "data": {
      "text/plain": [
       "array([0.00097656, 0.00976563, 0.04394531, 0.1171875 , 0.20507812,\n",
       "       0.24609375, 0.20507812, 0.1171875 , 0.04394531, 0.00976563,\n",
       "       0.00097656])"
      ]
     },
     "execution_count": 13,
     "metadata": {},
     "output_type": "execute_result"
    }
   ],
   "source": [
    "import numpy as np\n",
    "\n",
    "# n= 10 coin flips and p=0.5 for a fair coin.\n",
    "n=10\n",
    "p=0.5\n",
    "\n",
    "# Set up n successes\n",
    "x = range(n+1)\n",
    "\n",
    "# Create the probability mass function\n",
    "Y = binom.pmf(x,n,p)\n",
    "Y"
   ]
  },
  {
   "cell_type": "markdown",
   "id": "e941c7ae",
   "metadata": {},
   "source": [
    "#### Plot the above Probability Mass Function "
   ]
  },
  {
   "cell_type": "code",
   "execution_count": 17,
   "id": "b7b86ec8",
   "metadata": {},
   "outputs": [
    {
     "data": {
      "text/plain": [
       "Text(0, 0.5, 'Probability')"
      ]
     },
     "execution_count": 17,
     "metadata": {},
     "output_type": "execute_result"
    },
    {
     "data": {
      "image/png": "[encoded data removed]",
      "text/plain": [
       "<Figure size 432x288 with 1 Axes>"
      ]
     },
     "metadata": {
      "needs_background": "light"
     },
     "output_type": "display_data"
    }
   ],
   "source": [
    "import matplotlib.pyplot as plt\n",
    "\n",
    "plt.plot(x,Y,'o')\n",
    "\n",
    "#Plot title \n",
    "# y=1.08 is used to raise the long title a little more above the plot\n",
    "plt.title('Binomial Distribution PMF: 10 coin Flips, Odds of Success for Heads is p=0.5',y=1.08)\n",
    "\n",
    "#Axis Titles\n",
    "plt.xlabel('Number of Heads')\n",
    "plt.ylabel('Probability')"
   ]
  },
  {
   "cell_type": "code",
   "execution_count": null,
   "id": "53db14cc",
   "metadata": {},
   "outputs": [],
   "source": []
  },
  {
   "cell_type": "code",
   "execution_count": null,
   "id": "affa79be",
   "metadata": {},
   "outputs": [],
   "source": []
  }
 ],
 "metadata": {
  "kernelspec": {
   "display_name": "Python 3 (ipykernel)",
   "language": "python",
   "name": "python3"
  },
  "language_info": {
   "codemirror_mode": {
    "name": "ipython",
    "version": 3
   },
   "file_extension": ".py",
   "mimetype": "text/x-python",
   "name": "python",
   "nbconvert_exporter": "python",
   "pygments_lexer": "ipython3",
   "version": "3.9.12"
  }
 },
 "nbformat": 4,
 "nbformat_minor": 5
}
