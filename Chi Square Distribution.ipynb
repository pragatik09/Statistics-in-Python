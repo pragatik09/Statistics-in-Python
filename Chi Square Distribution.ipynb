{
 "cells": [
  {
   "cell_type": "markdown",
   "id": "bbba17c2",
   "metadata": {},
   "source": [
    "## Chi Square Distribution\n",
    "\n",
    "The Chi-Square Distribution is related to the standard normal distribution. If a random variable Z, then Z2 has the Chi Square distribution with one degree of freedom. Chi square is a measure of discrepancy defined to know whether the observed frequencies differ significantly from the expected frequencies.\n",
    "\n",
    "It is mathematically written as:\n",
    "\n",
    "                        χ2=(o1−e1)2e1+(o2−e2)2e2+...+(ok−ek)2ek\n",
    "\n",
    "Which is the same as:\n",
    "    \n",
    "                            χ2=∑j=1k(oj−ej)2ej\n",
    "\n",
    "If the total frequency is N\n",
    "            \n",
    "                                ∑oj=∑ej=N\n",
    "\n",
    "Then we could rewrite the Chi-Square Formula to be:\n",
    "    \n",
    "                               χ2=∑o2je2j−N"
   ]
  },
  {
   "cell_type": "markdown",
   "id": "529c8fc9",
   "metadata": {},
   "source": [
    "### Problem Statement\n",
    "\n",
    "You begin to keep track of this player's roll outcomes.You record the next 500 rolls taking note of the sum of the dice roll result and the number of times it occurs.\n",
    "\n",
    "You record the following:\n",
    "\n",
    "#### Sum of Dice Roll \t2 \t3 \t4 \t5 \t6 \t7 \t8 \t9 \t10 \t11 \t12\n",
    "\n",
    "#### Number of Times Observed \t8 \t32 \t48 \t59 \t67 \t84 \t76 \t57 \t34 \t28 \t7\n",
    "\n",
    "Now we also know the espected frequency of these sums for a fair dice. That frequency distribution looks like this:\n",
    "\n",
    "#### Sum of Dice Roll \t2 \t3 \t4 \t5 \t6 \t7 \t8 \t9 \t10 \t11 \t12\n",
    "\n",
    "#### Expected Frequency \t1/36 \t2/36 \t3/36 \t4/36 \t5/36 \t6/36 \t5/36 \t4/36 \t3/36 \t2/36 \t1/36"
   ]
  },
  {
   "cell_type": "code",
   "execution_count": 1,
   "id": "52d2a720",
   "metadata": {},
   "outputs": [
    {
     "data": {
      "text/plain": [
       "500"
      ]
     },
     "execution_count": 1,
     "metadata": {},
     "output_type": "execute_result"
    }
   ],
   "source": [
    "# Check sum of the rolls\n",
    "observed = [8,32,48,59,67,84,76,57,34,28,7]\n",
    "roll_sum = sum(observed)\n",
    "roll_sum"
   ]
  },
  {
   "cell_type": "code",
   "execution_count": 3,
   "id": "5768f818",
   "metadata": {},
   "outputs": [
    {
     "data": {
      "text/plain": [
       "[0.027777777777777776,\n",
       " 0.05555555555555555,\n",
       " 0.08333333333333333,\n",
       " 0.1111111111111111,\n",
       " 0.1388888888888889,\n",
       " 0.16666666666666666,\n",
       " 0.1388888888888889,\n",
       " 0.1111111111111111,\n",
       " 0.08333333333333333,\n",
       " 0.05555555555555555,\n",
       " 0.027777777777777776]"
      ]
     },
     "execution_count": 3,
     "metadata": {},
     "output_type": "execute_result"
    }
   ],
   "source": [
    "# The expected frequency\n",
    "freq = [1,2,3,4,5,6,5,4,3,2,1]\n",
    "\n",
    "possible_rolls = 1/36\n",
    "\n",
    "freq = [possible_rolls*dice for dice in freq]\n",
    "freq"
   ]
  },
  {
   "cell_type": "code",
   "execution_count": 4,
   "id": "f31277b7",
   "metadata": {},
   "outputs": [
    {
     "data": {
      "text/plain": [
       "[13.888888888888888,\n",
       " 27.777777777777775,\n",
       " 41.666666666666664,\n",
       " 55.55555555555555,\n",
       " 69.44444444444444,\n",
       " 83.33333333333333,\n",
       " 69.44444444444444,\n",
       " 55.55555555555555,\n",
       " 41.666666666666664,\n",
       " 27.777777777777775,\n",
       " 13.888888888888888]"
      ]
     },
     "execution_count": 4,
     "metadata": {},
     "output_type": "execute_result"
    }
   ],
   "source": [
    "# Multiply frequency by the sum to get the expected number of rolls for each frequency\n",
    "expected = [roll_sum*f for f in freq]\n",
    "expected"
   ]
  },
  {
   "cell_type": "markdown",
   "id": "553f22f1",
   "metadata": {},
   "source": [
    "#### Perform Chi Square automatically by using Scipy"
   ]
  },
  {
   "cell_type": "code",
   "execution_count": 6,
   "id": "549b19ba",
   "metadata": {},
   "outputs": [
    {
     "name": "stdout",
     "output_type": "stream",
     "text": [
      "The chi-squared test statistic is 9.89\n",
      "The p-value for the test is 0.45\n"
     ]
    }
   ],
   "source": [
    "from scipy import stats\n",
    "\n",
    "chisq,p = stats.chisquare(observed,expected)\n",
    "\n",
    "print('The chi-squared test statistic is %.2f' %chisq)\n",
    "print('The p-value for the test is %.2f' %p)"
   ]
  },
  {
   "cell_type": "markdown",
   "id": "25ddc809",
   "metadata": {},
   "source": [
    "#### Chisquare returns two values, the chi-squared test statistic and the p-value of the test. With such a high p-value, it can be concluded that the dice is fair for sure."
   ]
  },
  {
   "cell_type": "code",
   "execution_count": null,
   "id": "004773cd",
   "metadata": {},
   "outputs": [],
   "source": []
  },
  {
   "cell_type": "code",
   "execution_count": null,
   "id": "d8083b1a",
   "metadata": {},
   "outputs": [],
   "source": []
  },
  {
   "cell_type": "code",
   "execution_count": null,
   "id": "5ebd40cf",
   "metadata": {},
   "outputs": [],
   "source": []
  },
  {
   "cell_type": "code",
   "execution_count": null,
   "id": "6a3160e1",
   "metadata": {},
   "outputs": [],
   "source": []
  },
  {
   "cell_type": "code",
   "execution_count": null,
   "id": "35b5e249",
   "metadata": {},
   "outputs": [],
   "source": []
  }
 ],
 "metadata": {
  "kernelspec": {
   "display_name": "Python 3 (ipykernel)",
   "language": "python",
   "name": "python3"
  },
  "language_info": {
   "codemirror_mode": {
    "name": "ipython",
    "version": 3
   },
   "file_extension": ".py",
   "mimetype": "text/x-python",
   "name": "python",
   "nbconvert_exporter": "python",
   "pygments_lexer": "ipython3",
   "version": "3.9.12"
  }
 },
 "nbformat": 4,
 "nbformat_minor": 5
}
