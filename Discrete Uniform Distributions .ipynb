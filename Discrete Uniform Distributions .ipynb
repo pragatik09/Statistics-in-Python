{
 "cells": [
  {
   "cell_type": "markdown",
   "id": "bd019e2a",
   "metadata": {},
   "source": [
    "## Discrete Uniform Distribution\n",
    "\n",
    "A random variable X has a discrete uniform distribution if each of the n values in its range: x1,x2,x3....xn has equal probability:\n",
    "\n",
    "                                f(xi)=1/n"
   ]
  },
  {
   "cell_type": "code",
   "execution_count": 2,
   "id": "28efb42c",
   "metadata": {},
   "outputs": [],
   "source": [
    "import numpy as np\n",
    "import pandas as pd\n",
    "from numpy.random import randn\n",
    "from scipy import stats\n",
    "import matplotlib as mpl\n",
    "import matplotlib.pyplot as plt\n",
    "import seaborn as sns\n",
    "from __future__ import division\n",
    "%matplotlib inline"
   ]
  },
  {
   "cell_type": "markdown",
   "id": "4236002f",
   "metadata": {},
   "source": [
    "#### Setup dice roll and plot distribution using Seaborn"
   ]
  },
  {
   "cell_type": "code",
   "execution_count": 3,
   "id": "649dd17f",
   "metadata": {},
   "outputs": [
    {
     "data": {
      "text/plain": [
       "Text(0.5, 1.0, 'Probability Mass Function for Dice Roll')"
      ]
     },
     "execution_count": 3,
     "metadata": {},
     "output_type": "execute_result"
    },
    {
     "data": {
      "image/png": "[encoded data removed]",
      "text/plain": [
       "<Figure size 432x288 with 1 Axes>"
      ]
     },
     "metadata": {
      "needs_background": "light"
     },
     "output_type": "display_data"
    }
   ],
   "source": [
    "# Finding the Probability Mass function\n",
    "\n",
    "# Each number\n",
    "roll_options = [1,2,3,4,5,6]\n",
    "\n",
    "# Total probability space\n",
    "tprob = 1\n",
    "\n",
    "# Each roll has same odds of appearing (on a fair die)\n",
    "prob_roll = tprob / len(roll_options)\n",
    "\n",
    "# Plot using seaborn rugplot, setting height equal to probability of roll\n",
    "uni_plot = sns.rugplot(roll_options,height=prob_roll,c='indianred')\n",
    "\n",
    "# Set Title\n",
    "uni_plot.set_title('Probability Mass Function for Dice Roll')"
   ]
  },
  {
   "cell_type": "markdown",
   "id": "6348f707",
   "metadata": {},
   "source": [
    "#### Create Discrete Uniform Distribution using Scipy"
   ]
  },
  {
   "cell_type": "code",
   "execution_count": 4,
   "id": "f306142f",
   "metadata": {},
   "outputs": [
    {
     "name": "stdout",
     "output_type": "stream",
     "text": [
      "The mean is 3.5\n"
     ]
    }
   ],
   "source": [
    "from scipy.stats import randint\n",
    "low,high=1,7\n",
    "mean,var=randint.stats(low,high)\n",
    "print('The mean is %2.1f' %mean)"
   ]
  },
  {
   "cell_type": "code",
   "execution_count": 5,
   "id": "07113866",
   "metadata": {},
   "outputs": [
    {
     "data": {
      "text/plain": [
       "<BarContainer object of 6 artists>"
      ]
     },
     "execution_count": 5,
     "metadata": {},
     "output_type": "execute_result"
    },
    {
     "data": {
      "image/png": "[encoded data removed]",
      "text/plain": [
       "<Figure size 432x288 with 1 Axes>"
      ]
     },
     "metadata": {
      "needs_background": "light"
     },
     "output_type": "display_data"
    }
   ],
   "source": [
    "# Make simple bar plot using Scipy\n",
    "plt.bar(roll_options,randint.pmf(roll_options,low,high))"
   ]
  },
  {
   "cell_type": "code",
   "execution_count": null,
   "id": "c56528a3",
   "metadata": {},
   "outputs": [],
   "source": []
  },
  {
   "cell_type": "code",
   "execution_count": null,
   "id": "ae6706fe",
   "metadata": {},
   "outputs": [],
   "source": []
  },
  {
   "cell_type": "code",
   "execution_count": null,
   "id": "696834d6",
   "metadata": {},
   "outputs": [],
   "source": []
  }
 ],
 "metadata": {
  "kernelspec": {
   "display_name": "Python 3 (ipykernel)",
   "language": "python",
   "name": "python3"
  },
  "language_info": {
   "codemirror_mode": {
    "name": "ipython",
    "version": 3
   },
   "file_extension": ".py",
   "mimetype": "text/x-python",
   "name": "python",
   "nbconvert_exporter": "python",
   "pygments_lexer": "ipython3",
   "version": "3.9.12"
  }
 },
 "nbformat": 4,
 "nbformat_minor": 5
}
