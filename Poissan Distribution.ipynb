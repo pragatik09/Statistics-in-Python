{
 "cells": [
  {
   "cell_type": "markdown",
   "id": "14c8aa81",
   "metadata": {},
   "source": [
    "#### Poissan Distribution\n",
    "\n",
    "A discrete random variable X has a Poisson distribution with parameter λ if for k=0,1,2.., the probability mass function of X is given by:\n",
    "\n",
    "                                Pr(X=k)=λke−λk!\n",
    "\n",
    "where e is Euler's number (e=2.718...) and k! is the factorial of k.\n",
    "\n",
    "The Poisson Distribution has the following characteristics:\n",
    "\n",
    "1.) Discrete outcomes (x=0,1,2,3...)\n",
    "\n",
    "2.) The number of occurrences can range from zero to infinity (theoretically). \n",
    "\n",
    "3.) It describes the distribution of infrequent (rare) events.\n",
    "\n",
    "4.) Each event is independent of the other events.\n",
    "\n",
    "5.) Describes discrete events over an interval such as a time or distance.\n",
    "\n",
    "6.) The expected number of occurrences E(X) are assumed to be constant throughout the experiment."
   ]
  },
  {
   "cell_type": "markdown",
   "id": "d812f1d3",
   "metadata": {},
   "source": [
    "#### Problem Statement\n",
    "\n",
    "A McDonald's has a lunch rush from 12:30pm to 1:00pm. From looking at customer sales from previous days, we know that on average 10 customers enter during 12:30pm to 1:00pm. What is the probability that exactly 7 customers enter during lunch rush? What is the probability that more than 10 customers arrive?"
   ]
  },
  {
   "cell_type": "code",
   "execution_count": 2,
   "id": "4af7fb86",
   "metadata": {},
   "outputs": [
    {
     "name": "stdout",
     "output_type": "stream",
     "text": [
      " There is a 9.01 % chance that exactly 7 customers show up at the lunch rush\n"
     ]
    }
   ],
   "source": [
    "# Set lambda\n",
    "lamb = 10\n",
    "\n",
    "# Set k to the number of occurences\n",
    "k=7\n",
    "\n",
    "#Set up e and factorial math statements\n",
    "from math import exp\n",
    "from math import factorial\n",
    "from __future__ import division\n",
    "\n",
    "# Now put the probability mass function\n",
    "prob = (lamb**k)*exp(-lamb)/factorial(k)\n",
    "print(' There is a %2.2f %% chance that exactly 7 customers show up at the lunch rush' %(100*prob))"
   ]
  },
  {
   "cell_type": "code",
   "execution_count": 5,
   "id": "b2fc5184",
   "metadata": {},
   "outputs": [
    {
     "name": "stdout",
     "output_type": "stream",
     "text": [
      "There is a 9.01 % chance that exactly 7 customers show up at the lunch rush\n",
      "The mean is 10.00 \n"
     ]
    }
   ],
   "source": [
    "# Doing the same thing automatically with the help of Scipy\n",
    "from scipy.stats import poisson\n",
    "\n",
    "# Set our mean = 10 customers for the lunch rush\n",
    "mu = 10\n",
    "\n",
    "# Then we can get the mean and variance\n",
    "mean,var = poisson.stats(mu)\n",
    "\n",
    "# PMF at specific points, such as the odds of exactly 7 customers\n",
    "odds_seven = poisson.pmf(7,mu)\n",
    "\n",
    "print('There is a %2.2f %% chance that exactly 7 customers show up at the lunch rush' %(100*odds_seven))\n",
    "print('The mean is %2.2f ' %mean)"
   ]
  },
  {
   "cell_type": "code",
   "execution_count": 6,
   "id": "fc56e63d",
   "metadata": {},
   "outputs": [],
   "source": [
    "# Seeing the entire distribution\n",
    "import numpy as np\n",
    "\n",
    "# PMF for all the way to 30 customers\n",
    "k=np.arange(30)\n",
    "\n",
    "# Average of 10 customers for the time interval\n",
    "lamb = 10\n",
    "pmf_pois = poisson.pmf(k,lamb)"
   ]
  },
  {
   "cell_type": "code",
   "execution_count": 7,
   "id": "54f6af5d",
   "metadata": {},
   "outputs": [
    {
     "data": {
      "text/plain": [
       "<BarContainer object of 30 artists>"
      ]
     },
     "execution_count": 7,
     "metadata": {},
     "output_type": "execute_result"
    },
    {
     "data": {
      "image/png": "[encoded data removed]",
      "text/plain": [
       "<Figure size 432x288 with 1 Axes>"
      ]
     },
     "metadata": {
      "needs_background": "light"
     },
     "output_type": "display_data"
    }
   ],
   "source": [
    "#Plot the abover PMF\n",
    "import matplotlib.pyplot as plt\n",
    "import seaborn as sns\n",
    "%matplotlib inline\n",
    "\n",
    "#Simply call a barplot\n",
    "plt.bar(k,pmf_pois)"
   ]
  },
  {
   "cell_type": "code",
   "execution_count": 8,
   "id": "e5a62455",
   "metadata": {},
   "outputs": [
    {
     "name": "stdout",
     "output_type": "stream",
     "text": [
      "The probability that 10 or less customers show up is 58.3 %.\n"
     ]
    }
   ],
   "source": [
    "# Question 2 of problem statement\n",
    "# Set out k = 10 for ten customers, set mean = 10 for the average of ten customers during lunch rush.\n",
    "k,mu = 10,10\n",
    "\n",
    "# The probability that 10 or less customers show up is:\n",
    "prob_up_to_ten = poisson.cdf(k,mu)\n",
    "\n",
    "print('The probability that 10 or less customers show up is %2.1f %%.' %(100*prob_up_to_ten))"
   ]
  },
  {
   "cell_type": "code",
   "execution_count": 9,
   "id": "6fa52ff5",
   "metadata": {},
   "outputs": [
    {
     "name": "stdout",
     "output_type": "stream",
     "text": [
      "The probability that more than ten customers show up during lunch rush is 41.7 %.\n"
     ]
    }
   ],
   "source": [
    "# For more than 10 customers, it will be the remaining probability space\n",
    "prob_more_than_ten = 1 - prob_up_to_ten\n",
    "\n",
    "print('The probability that more than ten customers show up during lunch rush is %2.1f %%.' %(100*prob_more_than_ten))"
   ]
  },
  {
   "cell_type": "code",
   "execution_count": null,
   "id": "a5f470f1",
   "metadata": {},
   "outputs": [],
   "source": []
  },
  {
   "cell_type": "code",
   "execution_count": null,
   "id": "bee1c78b",
   "metadata": {},
   "outputs": [],
   "source": []
  },
  {
   "cell_type": "code",
   "execution_count": null,
   "id": "0a32fcbf",
   "metadata": {},
   "outputs": [],
   "source": []
  }
 ],
 "metadata": {
  "kernelspec": {
   "display_name": "Python 3 (ipykernel)",
   "language": "python",
   "name": "python3"
  },
  "language_info": {
   "codemirror_mode": {
    "name": "ipython",
    "version": 3
   },
   "file_extension": ".py",
   "mimetype": "text/x-python",
   "name": "python",
   "nbconvert_exporter": "python",
   "pygments_lexer": "ipython3",
   "version": "3.9.12"
  }
 },
 "nbformat": 4,
 "nbformat_minor": 5
}
